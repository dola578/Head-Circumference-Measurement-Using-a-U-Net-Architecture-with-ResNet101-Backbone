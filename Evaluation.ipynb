{
 "cells": [
  {
   "cell_type": "code",
   "execution_count": 2,
   "id": "4d62df75",
   "metadata": {},
   "outputs": [
    {
     "name": "stdout",
     "output_type": "stream",
     "text": [
      "     filename  center_x_mm  center_y_mm  semi_axes_a_mm  semi_axes_b_mm  \\\n",
      "0  500_HC.png    68.033503    35.543919       31.957770       25.599252   \n",
      "1  501_HC.png    48.373850    46.641756       29.748296       25.587849   \n",
      "2  502_HC.png    48.196346    34.802709       33.121740       26.007859   \n",
      "3  503_HC.png    45.288303    26.282596       30.391926       22.568441   \n",
      "4  504_HC.png    53.190387    31.898542       32.899925       23.038070   \n",
      "\n",
      "   angle_rad  \n",
      "0   0.108755  \n",
      "1   0.163514  \n",
      "2   0.043889  \n",
      "3   3.071081  \n",
      "4   2.844594  \n"
     ]
    }
   ],
   "source": [
    "import pandas as pd\n",
    "import numpy as np\n",
    "\n",
    "Params = 'ellipse_results.csv'\n",
    "# Params = 'ellipse_parameters2.csv'\n",
    "# Params = 'ellipse_parameters_otsu.csv'\n",
    "params_df = pd.read_csv(Params)\n",
    "\n",
    "print(params_df.head())"
   ]
  },
  {
   "cell_type": "markdown",
   "id": "6bf3732e",
   "metadata": {},
   "source": [
    "**Calculating HC**"
   ]
  },
  {
   "cell_type": "code",
   "execution_count": 3,
   "id": "94ca7f3a",
   "metadata": {},
   "outputs": [
    {
     "name": "stdout",
     "output_type": "stream",
     "text": [
      "Original DataFrame:\n",
      "     filename  center_x_mm  center_y_mm  semi_axes_a_mm  semi_axes_b_mm  \\\n",
      "0  500_HC.png    68.033503    35.543919       31.957770       25.599252   \n",
      "1  501_HC.png    48.373850    46.641756       29.748296       25.587849   \n",
      "2  502_HC.png    48.196346    34.802709       33.121740       26.007859   \n",
      "3  503_HC.png    45.288303    26.282596       30.391926       22.568441   \n",
      "4  504_HC.png    53.190387    31.898542       32.899925       23.038070   \n",
      "\n",
      "   angle_rad  \n",
      "0   0.108755  \n",
      "1   0.163514  \n",
      "2   0.043889  \n",
      "3   3.071081  \n",
      "4   2.844594  \n",
      "\n",
      "DataFrame with Head Circumference (HC):\n",
      "     filename  center_x_mm  center_y_mm  semi_axes_a_mm  semi_axes_b_mm  \\\n",
      "0  500_HC.png    68.033503    35.543919       31.957770       25.599252   \n",
      "1  501_HC.png    48.373850    46.641756       29.748296       25.587849   \n",
      "2  502_HC.png    48.196346    34.802709       33.121740       26.007859   \n",
      "3  503_HC.png    45.288303    26.282596       30.391926       22.568441   \n",
      "4  504_HC.png    53.190387    31.898542       32.899925       23.038070   \n",
      "\n",
      "   angle_rad          HC  \n",
      "0   0.108755  181.372839  \n",
      "1   0.163514  174.089390  \n",
      "2   0.043889  186.433922  \n",
      "3   3.071081  167.288834  \n",
      "4   2.844594  177.102584  \n"
     ]
    }
   ],
   "source": [
    "import math\n",
    "\n",
    "print(\"Original DataFrame:\")\n",
    "print(params_df.head())\n",
    "\n",
    "# Define a function to compute HC using Ramanujan's approximation\n",
    "def compute_hc(row):\n",
    "    a = row['semi_axes_a_mm']\n",
    "    b = row['semi_axes_b_mm']\n",
    "    # Ramanujan's approximation for the circumference of an ellipse:\n",
    "    # HC = π * [ 3*(a + b) - √((3a + b) * (a + 3b)) ]\n",
    "    hc = math.pi * (3 * (a + b) - math.sqrt((3 * a + b) * (a + 3 * b)))\n",
    "    return hc\n",
    "\n",
    "# Apply the compute_hc function to each row and create a new 'HC' column\n",
    "params_df['HC'] = params_df.apply(compute_hc, axis=1)\n",
    "\n",
    "# Display the updated DataFrame with the new HC column\n",
    "print(\"\\nDataFrame with Head Circumference (HC):\")\n",
    "print(params_df.head())\n",
    "\n",
    "# # Optionally, save the updated DataFrame to a new CSV file\n",
    "# params_df.to_csv('ellipse_results_with_hc.csv', index=False)"
   ]
  },
  {
   "cell_type": "code",
   "execution_count": 4,
   "id": "620f19ed",
   "metadata": {},
   "outputs": [],
   "source": [
    "# import math\n",
    "# from scipy.special import ellipe\n",
    "\n",
    "# def compute_hc_elliptic(row):\n",
    "#     \"\"\"\n",
    "#     Compute the ellipse circumference using the complete elliptic integral of the second kind.\n",
    "#     a: semi-major axis (in mm)\n",
    "#     b: semi-minor axis (in mm)\n",
    "    \n",
    "#     Returns the circumference of the ellipse.\n",
    "#     \"\"\"\n",
    "#     a = row['semi_axes_a_mm']\n",
    "#     b = row['semi_axes_b_mm']\n",
    "    \n",
    "#     if a < b:\n",
    "#         a, b = b, a  # ensure a is the semi-major axis\n",
    "#     e = math.sqrt(1 - (b**2) / (a**2))\n",
    "#     hc = 4 * a * ellipe(e)\n",
    "#     return hc\n",
    "\n",
    "# # Example usage:\n",
    "# # hc_exact = compute_hc_elliptic(a, b)\n",
    "# # print(\"Estimated HC using complete elliptic integral:\", hc_exact)\n",
    "\n",
    "# params_df['HC'] = params_df.apply(compute_hc_elliptic, axis=1)\n",
    "\n",
    "# # Display the updated DataFrame with the new HC column\n",
    "# print(\"\\nDataFrame with Head Circumference (HC):\")\n",
    "# print(params_df.head())\n",
    "\n",
    "# # Optionally, save the updated DataFrame to a new CSV file\n",
    "# params_df.to_csv('ellipse_results_with_hc.csv', index=False)\n"
   ]
  },
  {
   "cell_type": "code",
   "execution_count": 5,
   "id": "0071c909",
   "metadata": {},
   "outputs": [],
   "source": [
    "# import math\n",
    "\n",
    "# def compute_hc_ramanujan2(row):\n",
    "#     \"\"\"\n",
    "#     Compute the head circumference (HC) using Ramanujan's second approximation.\n",
    "#     a: semi-major axis (in mm)\n",
    "#     b: semi-minor axis (in mm)\n",
    "    \n",
    "#     Returns the approximate circumference of the ellipse.\n",
    "#     \"\"\"\n",
    "#     a = row['semi_axes_a_mm']\n",
    "#     b = row['semi_axes_b_mm']\n",
    "#     h = ((a - b)**2) / ((a + b)**2)\n",
    "#     hc = math.pi * (a + b) * (1 + (3 * h) / (10 + math.sqrt(4 - 3 * h)))\n",
    "#     return hc\n",
    "\n",
    "# params_df['HC'] = params_df.apply(compute_hc_ramanujan2, axis=1)\n",
    "\n",
    "# # Display the updated DataFrame with the new HC column\n",
    "# print(\"\\nDataFrame with Head Circumference (HC):\")\n",
    "# print(params_df.head())\n",
    "\n",
    "# # Optionally, save the updated DataFrame to a new CSV file\n",
    "# # params_df.to_csv('ellipse_results_with_hc_2.csv', index=False)"
   ]
  },
  {
   "cell_type": "code",
   "execution_count": 6,
   "id": "f472734f",
   "metadata": {},
   "outputs": [
    {
     "data": {
      "text/plain": [
       "0      181.372839\n",
       "1      174.089390\n",
       "2      186.433922\n",
       "3      167.288834\n",
       "4      177.102584\n",
       "          ...    \n",
       "245    270.642823\n",
       "246    270.392287\n",
       "247    267.535336\n",
       "248    254.967877\n",
       "249    256.760731\n",
       "Name: HC, Length: 250, dtype: float64"
      ]
     },
     "execution_count": 6,
     "metadata": {},
     "output_type": "execute_result"
    }
   ],
   "source": [
    "y_pred = params_df['HC']\n",
    "y_pred"
   ]
  },
  {
   "cell_type": "code",
   "execution_count": 7,
   "id": "58a9a50a",
   "metadata": {},
   "outputs": [
    {
     "name": "stdout",
     "output_type": "stream",
     "text": [
      "     filename  pixel size(mm)  head circumference (mm)\n",
      "0  500_HC.png        0.155017                   177.58\n",
      "1  501_HC.png        0.148858                   173.30\n",
      "2  502_HC.png        0.117650                   186.63\n",
      "3  503_HC.png        0.128429                   166.60\n",
      "4  504_HC.png        0.129272                   174.70\n"
     ]
    }
   ],
   "source": [
    "test_set = 'test_set_pixel_size.csv'\n",
    "test_set_df = pd.read_csv(test_set)\n",
    "\n",
    "print(test_set_df.head())"
   ]
  },
  {
   "cell_type": "code",
   "execution_count": 8,
   "id": "db195214",
   "metadata": {},
   "outputs": [
    {
     "data": {
      "text/plain": [
       "0      177.58\n",
       "1      173.30\n",
       "2      186.63\n",
       "3      166.60\n",
       "4      174.70\n",
       "        ...  \n",
       "245    269.00\n",
       "246    270.50\n",
       "247    269.80\n",
       "248    261.20\n",
       "249    263.02\n",
       "Name: head circumference (mm), Length: 250, dtype: float64"
      ]
     },
     "execution_count": 8,
     "metadata": {},
     "output_type": "execute_result"
    }
   ],
   "source": [
    "y_test = test_set_df['head circumference (mm)']\n",
    "y_test"
   ]
  },
  {
   "cell_type": "markdown",
   "id": "c2c839b0",
   "metadata": {},
   "source": [
    "**Evaluation**"
   ]
  },
  {
   "cell_type": "code",
   "execution_count": 9,
   "id": "62a02ed7",
   "metadata": {},
   "outputs": [
    {
     "name": "stdout",
     "output_type": "stream",
     "text": [
      "Evaluation Metrics:\n",
      "Mean Absolute Error (MAE): 2.10 mm\n",
      "Mean Squared Error (MSE): 7.80 mm^2\n",
      "Root Mean Squared Error (RMSE): 2.79 mm\n",
      "R-squared (R²): 0.99\n"
     ]
    }
   ],
   "source": [
    "from sklearn.metrics import mean_absolute_error, mean_squared_error, r2_score\n",
    "\n",
    "# Ensure y_test and y_pred are numpy arrays (if they aren't already)\n",
    "y_test = np.array(y_test)\n",
    "y_pred = np.array(y_pred)\n",
    "\n",
    "# Calculate error metrics\n",
    "mae = mean_absolute_error(y_test, y_pred)\n",
    "mse = mean_squared_error(y_test, y_pred)\n",
    "rmse = math.sqrt(mse)\n",
    "r2 = r2_score(y_test, y_pred)\n",
    "\n",
    "print(\"Evaluation Metrics:\")\n",
    "print(\"Mean Absolute Error (MAE): {:.2f} mm\".format(mae))\n",
    "print(\"Mean Squared Error (MSE): {:.2f} mm^2\".format(mse))\n",
    "print(\"Root Mean Squared Error (RMSE): {:.2f} mm\".format(rmse))\n",
    "print(\"R-squared (R²): {:.2f}\".format(r2))"
   ]
  },
  {
   "cell_type": "code",
   "execution_count": 10,
   "id": "4515ae27",
   "metadata": {},
   "outputs": [
    {
     "name": "stdout",
     "output_type": "stream",
     "text": [
      "Mean Difference (DF): -0.11 mm\n",
      "Mean Absolute Difference (ADF): 2.10 mm\n"
     ]
    }
   ],
   "source": [
    "DF = y_pred - y_test      # DF = HC_pred - HC_true\n",
    "ADF = np.abs(DF)          # ADF = |HC_pred - HC_true|\n",
    "\n",
    "# Optionally, compute average DF and ADF\n",
    "mean_DF = np.mean(DF)\n",
    "mean_ADF = np.mean(ADF)\n",
    "\n",
    "print(\"Mean Difference (DF): {:.2f} mm\".format(mean_DF))\n",
    "print(\"Mean Absolute Difference (ADF): {:.2f} mm\".format(mean_ADF))"
   ]
  }
 ],
 "metadata": {
  "kernelspec": {
   "display_name": "Python 3 (ipykernel)",
   "language": "python",
   "name": "python3"
  },
  "language_info": {
   "codemirror_mode": {
    "name": "ipython",
    "version": 3
   },
   "file_extension": ".py",
   "mimetype": "text/x-python",
   "name": "python",
   "nbconvert_exporter": "python",
   "pygments_lexer": "ipython3",
   "version": "3.10.12"
  }
 },
 "nbformat": 4,
 "nbformat_minor": 5
}
