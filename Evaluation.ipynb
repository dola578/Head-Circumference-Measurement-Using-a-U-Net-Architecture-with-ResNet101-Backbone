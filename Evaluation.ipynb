{
 "cells": [
  {
   "cell_type": "code",
   "execution_count": 1,
   "id": "4d62df75",
   "metadata": {},
   "outputs": [
    {
     "name": "stdout",
     "output_type": "stream",
     "text": [
      "     filename  center_x_mm  center_y_mm  semi_axes_a_mm  semi_axes_b_mm  \\\n",
      "0  500_HC.png    48.981544    37.339630       23.500007       26.792465   \n",
      "1  501_HC.png    34.595929    49.423396       21.552981       27.016434   \n",
      "2  502_HC.png    34.150777    36.981876       23.881004       27.759218   \n",
      "3  503_HC.png    32.237122    27.914341       22.231235       23.750195   \n",
      "4  504_HC.png    37.903932    33.824135       23.316717       24.613965   \n",
      "\n",
      "   angle_rad  \n",
      "0   0.023101  \n",
      "1   0.192545  \n",
      "2   3.117526  \n",
      "3   3.068604  \n",
      "4   2.790435  \n"
     ]
    }
   ],
   "source": [
    "import pandas as pd\n",
    "import numpy as np\n",
    "\n",
    "Params = 'ellipse_results.csv'\n",
    "params_df = pd.read_csv(Params)\n",
    "\n",
    "print(params_df.head())"
   ]
  },
  {
   "cell_type": "code",
   "execution_count": 2,
   "id": "94ca7f3a",
   "metadata": {},
   "outputs": [
    {
     "name": "stdout",
     "output_type": "stream",
     "text": [
      "Original DataFrame:\n",
      "     filename  center_x_mm  center_y_mm  semi_axes_a_mm  semi_axes_b_mm  \\\n",
      "0  500_HC.png    48.981544    37.339630       23.500007       26.792465   \n",
      "1  501_HC.png    34.595929    49.423396       21.552981       27.016434   \n",
      "2  502_HC.png    34.150777    36.981876       23.881004       27.759218   \n",
      "3  503_HC.png    32.237122    27.914341       22.231235       23.750195   \n",
      "4  504_HC.png    37.903932    33.824135       23.316717       24.613965   \n",
      "\n",
      "   angle_rad  \n",
      "0   0.023101  \n",
      "1   0.192545  \n",
      "2   3.117526  \n",
      "3   3.068604  \n",
      "4   2.790435  \n",
      "\n",
      "DataFrame with Head Circumference (HC):\n",
      "     filename  center_x_mm  center_y_mm  semi_axes_a_mm  semi_axes_b_mm  \\\n",
      "0  500_HC.png    48.981544    37.339630       23.500007       26.792465   \n",
      "1  501_HC.png    34.595929    49.423396       21.552981       27.016434   \n",
      "2  502_HC.png    34.150777    36.981876       23.881004       27.759218   \n",
      "3  503_HC.png    32.237122    27.914341       22.231235       23.750195   \n",
      "4  504_HC.png    37.903932    33.824135       23.316717       24.613965   \n",
      "\n",
      "   angle_rad          HC  \n",
      "0   0.023101  158.167794  \n",
      "1   0.192545  153.068380  \n",
      "2   3.117526  162.461374  \n",
      "3   3.068604  144.494337  \n",
      "4   2.790435  150.606257  \n"
     ]
    }
   ],
   "source": [
    "import math\n",
    "\n",
    "# Read the CSV file containing the ellipse parameters\n",
    "Params = 'ellipse_results.csv'\n",
    "params_df = pd.read_csv(Params)\n",
    "print(\"Original DataFrame:\")\n",
    "print(params_df.head())\n",
    "\n",
    "# Define a function to compute HC using Ramanujan's approximation\n",
    "def compute_hc(row):\n",
    "    a = row['semi_axes_a_mm']\n",
    "    b = row['semi_axes_b_mm']\n",
    "    # Ramanujan's approximation for the circumference of an ellipse:\n",
    "    # HC = π * [ 3*(a + b) - √((3a + b) * (a + 3b)) ]\n",
    "    hc = math.pi * (3 * (a + b) - math.sqrt((3 * a + b) * (a + 3 * b)))\n",
    "    return hc\n",
    "\n",
    "# Apply the compute_hc function to each row and create a new 'HC' column\n",
    "params_df['HC'] = params_df.apply(compute_hc, axis=1)\n",
    "\n",
    "# Display the updated DataFrame with the new HC column\n",
    "print(\"\\nDataFrame with Head Circumference (HC):\")\n",
    "print(params_df.head())\n",
    "\n",
    "# Optionally, save the updated DataFrame to a new CSV file\n",
    "params_df.to_csv('ellipse_results_with_hc.csv', index=False)"
   ]
  },
  {
   "cell_type": "code",
   "execution_count": 3,
   "id": "f472734f",
   "metadata": {},
   "outputs": [
    {
     "data": {
      "text/plain": [
       "0      158.167794\n",
       "1      153.068380\n",
       "2      162.461374\n",
       "3      144.494337\n",
       "4      150.606257\n",
       "          ...    \n",
       "245    236.716129\n",
       "246    232.121970\n",
       "247    236.330286\n",
       "248    225.076100\n",
       "249    226.194036\n",
       "Name: HC, Length: 250, dtype: float64"
      ]
     },
     "execution_count": 3,
     "metadata": {},
     "output_type": "execute_result"
    }
   ],
   "source": [
    "y_pred = params_df['HC']\n",
    "y_pred"
   ]
  },
  {
   "cell_type": "code",
   "execution_count": 4,
   "id": "58a9a50a",
   "metadata": {},
   "outputs": [
    {
     "name": "stdout",
     "output_type": "stream",
     "text": [
      "     filename  pixel size(mm)  head circumference (mm)\n",
      "0  500_HC.png        0.155017                   177.58\n",
      "1  501_HC.png        0.148858                   173.30\n",
      "2  502_HC.png        0.117650                   186.63\n",
      "3  503_HC.png        0.128429                   166.60\n",
      "4  504_HC.png        0.129272                   174.70\n"
     ]
    }
   ],
   "source": [
    "test_set = 'test_set_pixel_size.csv'\n",
    "test_set_df = pd.read_csv(test_set)\n",
    "\n",
    "print(test_set_df.head())"
   ]
  },
  {
   "cell_type": "code",
   "execution_count": 5,
   "id": "db195214",
   "metadata": {},
   "outputs": [
    {
     "data": {
      "text/plain": [
       "0      177.58\n",
       "1      173.30\n",
       "2      186.63\n",
       "3      166.60\n",
       "4      174.70\n",
       "        ...  \n",
       "245    269.00\n",
       "246    270.50\n",
       "247    269.80\n",
       "248    261.20\n",
       "249    263.02\n",
       "Name: head circumference (mm), Length: 250, dtype: float64"
      ]
     },
     "execution_count": 5,
     "metadata": {},
     "output_type": "execute_result"
    }
   ],
   "source": [
    "y_test = test_set_df['head circumference (mm)']\n",
    "y_test"
   ]
  },
  {
   "cell_type": "markdown",
   "id": "c2c839b0",
   "metadata": {},
   "source": [
    "**Evaluation**"
   ]
  },
  {
   "cell_type": "code",
   "execution_count": 6,
   "id": "62a02ed7",
   "metadata": {},
   "outputs": [
    {
     "name": "stdout",
     "output_type": "stream",
     "text": [
      "Evaluation Metrics:\n",
      "Mean Absolute Error (MAE): 24.95 mm\n",
      "Mean Squared Error (MSE): 644.03 mm^2\n",
      "Root Mean Squared Error (RMSE): 25.38 mm\n",
      "R-squared (R²): 0.22\n"
     ]
    }
   ],
   "source": [
    "from sklearn.metrics import mean_absolute_error, mean_squared_error, r2_score\n",
    "\n",
    "# Ensure y_test and y_pred are numpy arrays (if they aren't already)\n",
    "y_test = np.array(y_test)\n",
    "y_pred = np.array(y_pred)\n",
    "\n",
    "# Calculate error metrics\n",
    "mae = mean_absolute_error(y_test, y_pred)\n",
    "mse = mean_squared_error(y_test, y_pred)\n",
    "rmse = math.sqrt(mse)\n",
    "r2 = r2_score(y_test, y_pred)\n",
    "\n",
    "print(\"Evaluation Metrics:\")\n",
    "print(\"Mean Absolute Error (MAE): {:.2f} mm\".format(mae))\n",
    "print(\"Mean Squared Error (MSE): {:.2f} mm^2\".format(mse))\n",
    "print(\"Root Mean Squared Error (RMSE): {:.2f} mm\".format(rmse))\n",
    "print(\"R-squared (R²): {:.2f}\".format(r2))"
   ]
  }
 ],
 "metadata": {
  "kernelspec": {
   "display_name": "Python 3 (ipykernel)",
   "language": "python",
   "name": "python3"
  },
  "language_info": {
   "codemirror_mode": {
    "name": "ipython",
    "version": 3
   },
   "file_extension": ".py",
   "mimetype": "text/x-python",
   "name": "python",
   "nbconvert_exporter": "python",
   "pygments_lexer": "ipython3",
   "version": "3.10.12"
  }
 },
 "nbformat": 4,
 "nbformat_minor": 5
}
